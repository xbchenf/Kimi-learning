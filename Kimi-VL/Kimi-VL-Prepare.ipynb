{
 "cells": [
  {
   "metadata": {},
   "cell_type": "markdown",
   "source": [
    "# 一、环境准备\n",
    "在开始实践之前，确保环境满足要求，以充分体验 Kimi-VL 的性能：\n",
    "- PyTorch  2.5.1\n",
    "- Python  3.12(ubuntu22.04)\n",
    "- CUDA  12.4\n",
    "- GPU：L20(48GB) * 1\n",
    "- CPU：20 vCPU Intel(R) Xeon(R) Platinum 8457C\n",
    "- 内存：100GB\n",
    "\n",
    "# 二、安装依赖\n",
    "此外，还需通过 pip 换源加速下载并安装以下依赖包：（如果已经安装则跳过）\n",
    "```\n",
    "pip config set global.index-url https://pypi.tuna.tsinghua.edu.cn/simple\n",
    "pip install transformers==4.51.3\n",
    "pip install accelerate==1.7.0\n",
    "pip install flask==3.1.1\n",
    "pip install blobfile==3.0.0\n",
    "pip install pillow==11.0.0\n",
    "pip install modelscope==1.22.3\n",
    "```"
   ],
   "id": "61fbe9d7b8c8e7d7"
  }
 ],
 "metadata": {
  "kernelspec": {
   "display_name": "Python 3",
   "language": "python",
   "name": "python3"
  },
  "language_info": {
   "codemirror_mode": {
    "name": "ipython",
    "version": 2
   },
   "file_extension": ".py",
   "mimetype": "text/x-python",
   "name": "python",
   "nbconvert_exporter": "python",
   "pygments_lexer": "ipython2",
   "version": "2.7.6"
  }
 },
 "nbformat": 4,
 "nbformat_minor": 5
}
