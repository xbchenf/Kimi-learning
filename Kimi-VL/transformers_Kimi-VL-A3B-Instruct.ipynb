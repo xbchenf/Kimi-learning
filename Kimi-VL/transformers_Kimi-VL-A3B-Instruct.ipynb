{
 "cells": [
  {
   "cell_type": "markdown",
   "id": "bbcf7144-70ba-4f5f-81c9-9d9975ce36ed",
   "metadata": {},
   "source": [
    "# 一、Kimi-VL-A3B-Instruct推理示例"
   ]
  },
  {
   "cell_type": "markdown",
   "id": "64ebbb88-5bce-44cd-97d8-434410a0d27f",
   "metadata": {},
   "source": [
    "## （一）导入必要的库"
   ]
  },
  {
   "cell_type": "code",
   "execution_count": 4,
   "id": "30a6eeb1-4b69-44ee-95a5-d4ecf1b62151",
   "metadata": {},
   "outputs": [],
   "source": [
    "import torch\n",
    "from PIL import Image\n",
    "from transformers import AutoModelForCausalLM, AutoProcessor"
   ]
  },
  {
   "cell_type": "markdown",
   "id": "fc364987-8afb-45b2-891d-393fc2bad542",
   "metadata": {},
   "source": [
    "## （二）加载模型"
   ]
  },
  {
   "cell_type": "code",
   "execution_count": 8,
   "id": "11a35d0a-2591-49a6-a0a5-f10cb54a4237",
   "metadata": {},
   "outputs": [
    {
     "data": {
      "application/vnd.jupyter.widget-view+json": {
       "model_id": "d2665d440dfb4f2aa71d63949c900532",
       "version_major": 2,
       "version_minor": 0
      },
      "text/plain": [
       "Loading checkpoint shards:   0%|          | 0/7 [00:00<?, ?it/s]"
      ]
     },
     "metadata": {},
     "output_type": "display_data"
    }
   ],
   "source": [
    "# model_path = \"moonshotai/Kimi-VL-A3B-Instruct\"\n",
    "model_path = \"/root/autodl-tmp/moonshotai/Kimi-VL-A3B-Instruct\"\n",
    "model = AutoModelForCausalLM.from_pretrained(\n",
    "    model_path,\n",
    "    torch_dtype=\"auto\",\n",
    "    device_map=\"auto\",\n",
    "    trust_remote_code=True,  # 需要启用这个参数\n",
    ")\n",
    "processor = AutoProcessor.from_pretrained(model_path, trust_remote_code=True)"
   ]
  },
  {
   "cell_type": "markdown",
   "id": "a0e5ae9b-dbf3-4edb-bb1b-69692cb8a204",
   "metadata": {},
   "source": [
    "## （三）准备输入数据"
   ]
  },
  {
   "cell_type": "code",
   "execution_count": 9,
   "id": "73be2839-0fcb-4c8a-83b5-ee0dee1e1f85",
   "metadata": {},
   "outputs": [],
   "source": [
    "image_path = \"/root/Kimi-VL/figures/demo.png\"\n",
    "image = Image.open(image_path)\n",
    "messages = [\n",
    "    {\"role\": \"user\", \"content\": [{\"type\": \"image\", \"image\": image_path}, {\"type\": \"text\", \"text\": \"What is the dome building in the picture? Think step by step.\"}]}\n",
    "]"
   ]
  },
  {
   "cell_type": "markdown",
   "id": "896d0394-fc82-414b-9f51-98ae0bf7badd",
   "metadata": {},
   "source": [
    "## (四）生成和解码响应"
   ]
  },
  {
   "cell_type": "code",
   "execution_count": 10,
   "id": "bd761248-f4b0-4b32-933b-138574ea7c81",
   "metadata": {},
   "outputs": [
    {
     "name": "stdout",
     "output_type": "stream",
     "text": [
      "To identify the dome building in the picture, we can follow these steps:\n",
      "\n",
      "1. **Observation of the Building**: The dome building is centrally located in the image and is characterized by its large, white, dome-shaped roof. This distinctive architectural feature makes it stand out among the surrounding structures.\n",
      "\n",
      "2. **Contextual Clues**: The building is situated in an urban environment with high-rise buildings and a busy highway, indicating it is likely a significant landmark within a city.\n",
      "\n",
      "3. **Identification of the Structure**: The dome building is identified as the Rogers Centre, a well-known multi-purpose stadium in Toronto, Canada. The Rogers Centre is famous for its retractable roof and is a prominent feature of the city's skyline.\n",
      "\n",
      "4. **Verification with Known Information**: Cross-referencing with known images and information about the Rogers Centre confirms that the building in the picture matches the description and appearance of the Rogers Centre.\n",
      "\n",
      "Therefore, the dome building in the picture is the Rogers Centre.\n"
     ]
    }
   ],
   "source": [
    "text = processor.apply_chat_template(messages, add_generation_prompt=True, return_tensors=\"pt\")\n",
    "inputs = processor(images=image, text=text, return_tensors=\"pt\", padding=True, truncation=True).to(model.device)\n",
    "generated_ids = model.generate(**inputs, max_new_tokens=512)\n",
    "generated_ids_trimmed = [\n",
    "    out_ids[len(in_ids) :] for in_ids, out_ids in zip(inputs.input_ids, generated_ids)\n",
    "]\n",
    "response = processor.batch_decode(\n",
    "    generated_ids_trimmed, skip_special_tokens=True, clean_up_tokenization_spaces=False\n",
    ")[0]\n",
    "print(response)"
   ]
  },
  {
   "cell_type": "markdown",
   "id": "1e66992e-530e-462e-906a-252003fe1b98",
   "metadata": {},
   "source": [
    "## (五）中文提问体验"
   ]
  },
  {
   "cell_type": "code",
   "execution_count": 11,
   "id": "a9281dcd-a243-427c-a3f8-529c716b1380",
   "metadata": {},
   "outputs": [],
   "source": [
    "image_path = \"/root/Kimi-VL/figures/demo.png\"\n",
    "image = Image.open(image_path)\n",
    "messages = [\n",
    "    {\"role\": \"user\", \"content\": [{\"type\": \"image\", \"image\": image_path}, {\"type\": \"text\", \"text\": \"图片中有什么内容？\"}]}\n",
    "]"
   ]
  },
  {
   "cell_type": "code",
   "execution_count": 12,
   "id": "6ec42a95-5b92-4276-af2d-ead7ad9068df",
   "metadata": {},
   "outputs": [
    {
     "name": "stdout",
     "output_type": "stream",
     "text": [
      "这张图片展示了一个城市的天际线，背景是黄昏时分的天空。图片中可以看到：\n",
      "\n",
      "1. **高楼大厦**：左侧和右侧都有高层建筑，其中左侧的建筑有玻璃幕墙，右侧的建筑有独特的圆顶结构。\n",
      "2. **交通**：前景中有一条繁忙的公路，车辆的车灯在道路上形成了一条光带，显示出交通的繁忙。\n",
      "3. **地标建筑**：右侧有一个高耸的塔楼，可能是城市的标志性建筑之一。\n",
      "4. **天空**：天空中有一些云彩，呈现出黄昏时分的柔和色彩。\n",
      "\n",
      "整体画面展示了城市的繁华和现代感。\n"
     ]
    }
   ],
   "source": [
    "text = processor.apply_chat_template(messages, add_generation_prompt=True, return_tensors=\"pt\")\n",
    "inputs = processor(images=image, text=text, return_tensors=\"pt\", padding=True, truncation=True).to(model.device)\n",
    "generated_ids = model.generate(**inputs, max_new_tokens=512)\n",
    "generated_ids_trimmed = [\n",
    "    out_ids[len(in_ids) :] for in_ids, out_ids in zip(inputs.input_ids, generated_ids)\n",
    "]\n",
    "response = processor.batch_decode(\n",
    "    generated_ids_trimmed, skip_special_tokens=True, clean_up_tokenization_spaces=False\n",
    ")[0]\n",
    "print(response)"
   ]
  },
  {
   "cell_type": "code",
   "execution_count": null,
   "id": "a44f19bb-52c3-4ae6-b9f3-c83bc7a5945a",
   "metadata": {},
   "outputs": [],
   "source": []
  }
 ],
 "metadata": {
  "kernelspec": {
   "display_name": "Python 3 (ipykernel)",
   "language": "python",
   "name": "python3"
  },
  "language_info": {
   "codemirror_mode": {
    "name": "ipython",
    "version": 3
   },
   "file_extension": ".py",
   "mimetype": "text/x-python",
   "name": "python",
   "nbconvert_exporter": "python",
   "pygments_lexer": "ipython3",
   "version": "3.12.3"
  }
 },
 "nbformat": 4,
 "nbformat_minor": 5
}
